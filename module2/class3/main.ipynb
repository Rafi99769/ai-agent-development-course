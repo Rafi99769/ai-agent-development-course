{
 "cells": [
  {
   "cell_type": "code",
   "execution_count": 1,
   "id": "ba11657a",
   "metadata": {},
   "outputs": [],
   "source": [
    "from src.graph import create_graph\n",
    "from IPython.display import Image, display\n",
    "from langchain_core.messages import HumanMessage\n"
   ]
  },
  {
   "cell_type": "code",
   "execution_count": 2,
   "id": "ba26c5d1",
   "metadata": {},
   "outputs": [],
   "source": [
    "graph = create_graph()"
   ]
  },
  {
   "cell_type": "code",
   "execution_count": 3,
   "id": "69b13c2d",
   "metadata": {},
   "outputs": [
    {
     "data": {
      "image/png": "[encoded data removed]",
      "text/plain": [
       "<IPython.core.display.Image object>"
      ]
     },
     "metadata": {},
     "output_type": "display_data"
    }
   ],
   "source": [
    "image_bytes = graph.get_graph().draw_mermaid_png()\n",
    "\n",
    "display(Image(image_bytes))"
   ]
  },
  {
   "cell_type": "code",
   "execution_count": 6,
   "id": "8b7522c0",
   "metadata": {},
   "outputs": [],
   "source": [
    "config = {\"configurable\": {\"thread_id\": \"1\"}}"
   ]
  },
  {
   "cell_type": "code",
   "execution_count": 14,
   "id": "97e16e94",
   "metadata": {},
   "outputs": [],
   "source": [
    "prompt = \"I already bought fishes. \""
   ]
  },
  {
   "cell_type": "code",
   "execution_count": 15,
   "id": "85e79226",
   "metadata": {},
   "outputs": [
    {
     "name": "stderr",
     "output_type": "stream",
     "text": [
      "E0000 00:00:1760804583.403194  331263 alts_credentials.cc:93] ALTS creds ignored. Not running on GCP and untrusted ALTS is not enabled.\n",
      "E0000 00:00:1760804585.574117  331263 alts_credentials.cc:93] ALTS creds ignored. Not running on GCP and untrusted ALTS is not enabled.\n"
     ]
    },
    {
     "data": {
      "text/plain": [
       "{'messages': [HumanMessage(content='hi! I am shahad', additional_kwargs={}, response_metadata={}),\n",
       "  AIMessage(content='Hello Shahad! How can I help you today?', additional_kwargs={}, response_metadata={'prompt_feedback': {'block_reason': 0, 'safety_ratings': []}, 'finish_reason': 'STOP', 'model_name': 'gemini-2.5-flash', 'safety_ratings': [], 'grounding_metadata': {}, 'model_provider': 'google_genai'}, id='lc_run--95ca4b64-1f1a-4a35-8d99-0b6993a6ed30-0', usage_metadata={'input_tokens': 239, 'output_tokens': 11, 'total_tokens': 250, 'input_token_details': {'cache_read': 0}}),\n",
       "  HumanMessage(content='who am I? ', additional_kwargs={}, response_metadata={}),\n",
       "  AIMessage(content='I only know that your name is Shahad. I do not have access to any other personal information.', additional_kwargs={}, response_metadata={'prompt_feedback': {'block_reason': 0, 'safety_ratings': []}, 'finish_reason': 'STOP', 'model_name': 'gemini-2.5-flash', 'safety_ratings': [], 'grounding_metadata': {}, 'model_provider': 'google_genai'}, id='lc_run--68ef59db-5181-4f5f-94c9-6d6c20e488b1-0', usage_metadata={'input_tokens': 257, 'output_tokens': 21, 'total_tokens': 278, 'input_token_details': {'cache_read': 0}}),\n",
       "  HumanMessage(content='what are my todos?', additional_kwargs={}, response_metadata={}),\n",
       "  AIMessage(content='', additional_kwargs={'function_call': {'name': 'read_todos', 'arguments': '{}'}}, response_metadata={'prompt_feedback': {'block_reason': 0, 'safety_ratings': []}, 'finish_reason': 'STOP', 'model_name': 'gemini-2.5-flash', 'safety_ratings': [], 'grounding_metadata': {}, 'model_provider': 'google_genai'}, id='lc_run--fd9ad70a-e99b-442d-8548-6deee0110af1-0', tool_calls=[{'name': 'read_todos', 'args': {}, 'id': '93a36a68-afb0-4146-a666-96f358bdeee7', 'type': 'tool_call'}], usage_metadata={'input_tokens': 285, 'output_tokens': 38, 'total_tokens': 323, 'input_token_details': {'cache_read': 0}, 'output_token_details': {'reasoning': 28}}),\n",
       "  ToolMessage(content='[\\n    {\\n        \"id\": 1,\\n        \"item\": \"buy fishes today\",\\n        \"status\": \"pending\"\\n    }\\n]', name='read_todos', tool_call_id='93a36a68-afb0-4146-a666-96f358bdeee7'),\n",
       "  AIMessage(content='You have one todo item: \"buy fishes today\" with a pending status.', additional_kwargs={}, response_metadata={'prompt_feedback': {'block_reason': 0, 'safety_ratings': []}, 'finish_reason': 'STOP', 'model_name': 'gemini-2.5-flash', 'safety_ratings': [], 'grounding_metadata': {}, 'model_provider': 'google_genai'}, id='lc_run--d85c894a-3492-452c-8f43-efba676f3d58-0', usage_metadata={'input_tokens': 329, 'output_tokens': 16, 'total_tokens': 345, 'input_token_details': {'cache_read': 0}}),\n",
       "  HumanMessage(content='I already bought fishes. ', additional_kwargs={}, response_metadata={}),\n",
       "  AIMessage(content='', additional_kwargs={'function_call': {'name': 'update_todo', 'arguments': '{\"item_id\": 1, \"status\": \"completed\"}'}}, response_metadata={'prompt_feedback': {'block_reason': 0, 'safety_ratings': []}, 'finish_reason': 'STOP', 'model_name': 'gemini-2.5-flash', 'safety_ratings': [], 'grounding_metadata': {}, 'model_provider': 'google_genai'}, id='lc_run--5fca45d8-250d-443b-b6cc-55c7c56f5713-0', tool_calls=[{'name': 'update_todo', 'args': {'item_id': 1, 'status': 'completed'}, 'id': '7ead2ba2-419a-4d03-b9ad-65beca2925a3', 'type': 'tool_call'}], usage_metadata={'input_tokens': 353, 'output_tokens': 96, 'total_tokens': 449, 'input_token_details': {'cache_read': 0}, 'output_token_details': {'reasoning': 74}}),\n",
       "  ToolMessage(content='Todo item with ID 1 updated to status: completed', name='update_todo', tool_call_id='7ead2ba2-419a-4d03-b9ad-65beca2925a3'),\n",
       "  AIMessage(content='Great! I\\'ve marked \"buy fishes today\" as completed.', additional_kwargs={}, response_metadata={'prompt_feedback': {'block_reason': 0, 'safety_ratings': []}, 'finish_reason': 'STOP', 'model_name': 'gemini-2.5-flash', 'safety_ratings': [], 'grounding_metadata': {}, 'model_provider': 'google_genai'}, id='lc_run--0adb17b5-4d79-4114-8a19-dd731d9d505d-0', usage_metadata={'input_tokens': 400, 'output_tokens': 14, 'total_tokens': 414, 'input_token_details': {'cache_read': 0}})]}"
      ]
     },
     "execution_count": 15,
     "metadata": {},
     "output_type": "execute_result"
    }
   ],
   "source": [
    "graph.invoke({\"messages\": [HumanMessage(content=prompt)]}, config)"
   ]
  },
  {
   "cell_type": "code",
   "execution_count": null,
   "id": "cd2639bf",
   "metadata": {},
   "outputs": [],
   "source": []
  },
  {
   "cell_type": "code",
   "execution_count": null,
   "id": "c99431a7",
   "metadata": {},
   "outputs": [],
   "source": []
  }
 ],
 "metadata": {
  "kernelspec": {
   "display_name": ".venv",
   "language": "python",
   "name": "python3"
  },
  "language_info": {
   "codemirror_mode": {
    "name": "ipython",
    "version": 3
   },
   "file_extension": ".py",
   "mimetype": "text/x-python",
   "name": "python",
   "nbconvert_exporter": "python",
   "pygments_lexer": "ipython3",
   "version": "3.12.9"
  }
 },
 "nbformat": 4,
 "nbformat_minor": 5
}
