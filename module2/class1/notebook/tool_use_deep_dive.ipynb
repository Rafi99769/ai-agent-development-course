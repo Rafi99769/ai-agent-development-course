{
 "cells": [
  {
   "cell_type": "markdown",
   "id": "134183be",
   "metadata": {},
   "source": [
    "# Tool Use Deep Dive"
   ]
  },
  {
   "cell_type": "markdown",
   "id": "bed60e58",
   "metadata": {},
   "source": [
    "Tool calling refers to the ability of AI models to interact with external tools, application programming interfaces (APIs) or systems to enhance their functions. A crucial aspect of AI Agents is their ability to take actions. This happens through the use of Tools."
   ]
  },
  {
   "cell_type": "markdown",
   "id": "4c3d7c31",
   "metadata": {},
   "source": [
    "### What are AI Tools?"
   ]
  },
  {
   "cell_type": "markdown",
   "id": "9c27fcf3",
   "metadata": {},
   "source": [
    "A Tool is a function given to the LLM. This function should fulfill a clear objective. Example:\n",
    "\n",
    "- **Web Search**: Allows the agent to fetch up-to-date information from the internet.\n",
    "- **Image Generation**: Creates images based on text descriptions.\n",
    "- **Retrieval**:\tRetrieves information from an external source.\n",
    "- **API Interface**:\tInteracts with an external API (GitHub, YouTube, Spotify, etc.)."
   ]
  },
  {
   "cell_type": "markdown",
   "id": "944cf356",
   "metadata": {},
   "source": [
    "LLMs predict the completion of a prompt based on their training data. So, to get up-to-date information, we need to ground the model to external data sources. This can done using tools."
   ]
  },
  {
   "cell_type": "code",
   "execution_count": null,
   "id": "5169c9bc",
   "metadata": {},
   "outputs": [],
   "source": [
    "from dotenv import load_dotenv\n",
    "load_dotenv()"
   ]
  },
  {
   "cell_type": "code",
   "execution_count": null,
   "id": "67a5ea11",
   "metadata": {},
   "outputs": [],
   "source": [
    "import os\n",
    "\n",
    "\n",
    "API_KEY = os.getenv(\"GEMINI_API_KEY\")\n",
    "if not API_KEY:\n",
    "    raise ValueError(\"Please set GEMINI_API_KEY environment variable.\")"
   ]
  },
  {
   "cell_type": "code",
   "execution_count": null,
   "id": "a3715e87",
   "metadata": {},
   "outputs": [],
   "source": [
    "from google import genai\n",
    "from google.genai import types\n",
    "\n",
    "\n",
    "client = genai.Client(api_key=API_KEY)"
   ]
  },
  {
   "cell_type": "code",
   "execution_count": null,
   "id": "f2c1bb0b",
   "metadata": {},
   "outputs": [],
   "source": [
    "response = client.models.generate_content(\n",
    "    model=\"gemini-2.5-flash\",\n",
    "    contents=\"Who won the nobel peace prize in 2025?\"\n",
    ")\n",
    "\n",
    "print(response.text)"
   ]
  },
  {
   "cell_type": "code",
   "execution_count": null,
   "id": "353dae03",
   "metadata": {},
   "outputs": [],
   "source": [
    "grounding_tool = types.Tool(\n",
    "    google_search=types.GoogleSearch()\n",
    ")\n",
    "\n",
    "config = types.GenerateContentConfig(\n",
    "    tools=[grounding_tool]\n",
    ")\n",
    "\n",
    "response = client.models.generate_content(\n",
    "    model=\"gemini-2.5-flash\",\n",
    "    contents=\"Who won the nobel peace prize in 2025?\",\n",
    "    config=config,\n",
    ")\n",
    "\n",
    "print(response.text)"
   ]
  },
  {
   "cell_type": "markdown",
   "id": "52cbc05a",
   "metadata": {},
   "source": [
    "### How to write a good tool?"
   ]
  },
  {
   "cell_type": "markdown",
   "id": "2ae6c3c9",
   "metadata": {},
   "source": [
    "A Tool should contain:\n",
    "\n",
    "- A textual description of what the function does.\n",
    "- A Callable (something to perform an action).\n",
    "- Arguments with typings.\n",
    "- (Optional) Outputs with typings."
   ]
  },
  {
   "cell_type": "code",
   "execution_count": null,
   "id": "c65c04dc",
   "metadata": {},
   "outputs": [],
   "source": [
    "def my_to_do_list(name: str) -> str:\n",
    "    \"\"\"Read the to-do list from a file starting with the name and return the list.\n",
    "    \n",
    "    Args:\n",
    "        name: The name of the person whose to-do list to read.\n",
    "    \n",
    "    Returns:\n",
    "        The to-do list as a string.\n",
    "    \"\"\"\n",
    "    with open(f\"{name}-To-do-list.txt\", \"r\") as f:\n",
    "        result = f.read()\n",
    "    return result\n"
   ]
  },
  {
   "cell_type": "code",
   "execution_count": null,
   "id": "8ab5d0bb",
   "metadata": {},
   "outputs": [],
   "source": [
    "to_do_list_declaration = {\n",
    "    \"name\": \"my_to_do_list\",\n",
    "    \"description\": \"Reads the to-do list of a person and return the list.\",\n",
    "    \"parameters\": {\n",
    "        \"type\": \"object\",\n",
    "        \"properties\": {\n",
    "            \"name\": {\n",
    "                \"type\": \"string\",\n",
    "                \"description\": \"The name of person and the file prefix.\",\n",
    "            },\n",
    "        },\n",
    "        \"required\": [\"name\"],\n",
    "    },\n",
    "}"
   ]
  },
  {
   "cell_type": "code",
   "execution_count": null,
   "id": "89054ac0",
   "metadata": {},
   "outputs": [],
   "source": [
    "to_do_list_tool = types.Tool(\n",
    "    function_declarations=[\n",
    "        to_do_list_declaration\n",
    "    ]\n",
    ")"
   ]
  },
  {
   "cell_type": "code",
   "execution_count": null,
   "id": "ba2d4f85",
   "metadata": {},
   "outputs": [],
   "source": [
    "config = types.GenerateContentConfig(\n",
    "    tools=[to_do_list_tool]\n",
    ")\n",
    "\n",
    "contents = [\n",
    "    types.Content(\n",
    "        role=\"user\", parts=[types.Part(text=\"What is Shahad's to-do list?\")]\n",
    "    )\n",
    "]\n",
    "\n",
    "response = client.models.generate_content(\n",
    "    model=\"gemini-2.5-flash\",\n",
    "    contents=contents,\n",
    "    config=config,\n",
    ")\n",
    "\n",
    "tool_call = response.candidates[0].content.parts[0].function_call\n",
    "print(tool_call)"
   ]
  },
  {
   "cell_type": "code",
   "execution_count": null,
   "id": "04ffcde1",
   "metadata": {},
   "outputs": [],
   "source": [
    "if tool_call.name == \"my_to_do_list\":\n",
    "    result = my_to_do_list(**tool_call.args)"
   ]
  },
  {
   "cell_type": "code",
   "execution_count": null,
   "id": "96d9f978",
   "metadata": {},
   "outputs": [],
   "source": [
    "function_response_part = types.Part.from_function_response(\n",
    "    name=tool_call.name,\n",
    "    response={\"result\": result},\n",
    ")\n",
    "\n",
    "contents.append(response.candidates[0].content)\n",
    "contents.append(types.Content(role=\"user\", parts=[function_response_part]))"
   ]
  },
  {
   "cell_type": "code",
   "execution_count": null,
   "id": "0ac9ae23",
   "metadata": {},
   "outputs": [],
   "source": [
    "final_response = client.models.generate_content(\n",
    "    model=\"gemini-2.5-flash\",\n",
    "    config=config,\n",
    "    contents=contents,\n",
    ")\n",
    "\n",
    "print(final_response.text)"
   ]
  },
  {
   "cell_type": "markdown",
   "id": "e513beb9",
   "metadata": {},
   "source": [
    "# Actions"
   ]
  },
  {
   "cell_type": "markdown",
   "id": "5cdcb535",
   "metadata": {},
   "source": [
    "Actions are the concrete steps an AI agent takes to interact with its environment.\n",
    "\n",
    "Whether it’s browsing the web for information or controlling a physical device, each action is a deliberate operation executed by the agent.\n",
    "\n",
    "For example, an agent assisting with customer service might retrieve customer data, offer support articles, or transfer issues to a human representative.\n",
    "\n",
    "There are multiple types of Agents that take actions differently:\n",
    "\n",
    "- **JSON Agent**:\tThe Action to take is specified in JSON format.\n",
    "- **Code Agent**:\tThe Agent writes a code block that is interpreted externally.\n",
    "- **Function-calling Agent**:\tIt is a subcategory of the JSON Agent which has been fine-tuned to generate a new message for each action.\n",
    "\n",
    "\n",
    "### The Stop and Parse Approach\n",
    "One key method for implementing actions is the stop and parse approach. This method ensures that the agent’s output is structured and predictable:\n",
    "\n",
    "**Generation in a Structured Format**:\n",
    "The agent outputs its intended action in a clear, predetermined format (JSON or code).\n",
    "\n",
    "**Halting Further Generation**:\n",
    "Once the text defining the action has been emitted, the LLM stops generating additional tokens. This prevents extra or erroneous output.\n",
    "\n",
    "**Parsing the Output**:\n",
    "An external parser reads the formatted action, determines which Tool to call, and extracts the required parameters.\n",
    "\n",
    "For example, an agent needing to check the weather might output:\n",
    "\n",
    "```\n",
    "\n",
    "Thought: I need to check the current weather for New York.\n",
    "Action :\n",
    "{\n",
    "  \"action\": \"get_weather\",\n",
    "  \"action_input\": {\"location\": \"New York\"}\n",
    "}\n",
    "\n",
    "```\n",
    "The framework can then easily parse the name of the function to call and the arguments to apply.\n",
    "\n",
    "This clear, machine-readable format minimizes errors and enables external tools to accurately process the agent’s command.\n",
    "\n",
    "Note: Function-calling agents operate similarly by structuring each action so that a designated function is invoked with the correct arguments. We’ll dive deeper into those types of Agents in a future Unit.\n",
    "\n"
   ]
  },
  {
   "cell_type": "markdown",
   "id": "404dfbf5",
   "metadata": {},
   "source": [
    "### Code Agents\n"
   ]
  },
  {
   "cell_type": "markdown",
   "id": "831070fa",
   "metadata": {},
   "source": [
    "An alternative approach is using Code Agents. The idea is: instead of outputting a simple JSON object, a Code Agent generates an executable code block—typically in a high-level language like Python."
   ]
  },
  {
   "cell_type": "markdown",
   "id": "245d4711",
   "metadata": {},
   "source": [
    "This approach offers several advantages:\n",
    "\n",
    "- **Expressiveness**: Code can naturally represent complex logic, including loops, conditionals, and nested functions, providing greater flexibility than JSON.\n",
    "- **Modularity and Reusability**: Generated code can include functions and modules that are reusable across different actions or tasks.\n",
    "- **Enhanced Debuggability**: With a well-defined programming syntax, code errors are often easier to detect and correct.\n",
    "- **Direct Integration**: Code Agents can integrate directly with external libraries and APIs, enabling more complex operations such as data processing or real-time decision making."
   ]
  }
 ],
 "metadata": {
  "kernelspec": {
   "display_name": "M2 C1 Notebook",
   "language": "python",
   "name": "m2-c1-notebook"
  },
  "language_info": {
   "codemirror_mode": {
    "name": "ipython",
    "version": 3
   },
   "file_extension": ".py",
   "mimetype": "text/x-python",
   "name": "python",
   "nbconvert_exporter": "python",
   "pygments_lexer": "ipython3",
   "version": "3.12.11"
  }
 },
 "nbformat": 4,
 "nbformat_minor": 5
}
